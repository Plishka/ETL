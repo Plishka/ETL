{
 "cells": [
  {
   "cell_type": "code",
   "execution_count": null,
   "id": "00c4b011",
   "metadata": {},
   "outputs": [],
   "source": [
    "import pandas as pd\n",
    "wallets_new_370k = pd.read_csv('wallets_with_points_checkpoint.csv')\n",
    "wallets_old_10k = pd.read_csv('wallets_with_points_10000.csv')\n",
    "\n",
    "# To check data sets\n",
    "print('New Wallets: \\n', wallets_new_370k.info())\n",
    "print('\\nOld Wallets: \\n', wallets_old_10k.info())"
   ]
  },
  {
   "cell_type": "code",
   "execution_count": null,
   "id": "1efca112",
   "metadata": {},
   "outputs": [],
   "source": [
    "# Null values\n",
    "null_wallets_370 = wallets_new_370k[wallets_new_370k['Points'].isnull()]\n",
    "null_wallets_10k = wallets_old_10k[wallets_old_10k['Points'].isnull()]\n",
    "\n",
    "print('Null Values 370k: \\n', null_wallets_370)\n",
    "print('Null Values 10k: \\n', null_wallets_10k)"
   ]
  },
  {
   "cell_type": "code",
   "execution_count": null,
   "id": "a884be46",
   "metadata": {},
   "outputs": [],
   "source": [
    "# Save wallets with Null points to get points data from AWS API\n",
    "null_points_wallets = null_wallets_370[['Wallet']].rename(columns={'Wallet': 'wallet'}) # rename column for API script to work properly\n",
    "\n",
    "# null_points_wallets.to_csv(\"null_points_wallets.csv\", index=False) #  Save needed wallets USE WHEN NULL values exist\n",
    "\n",
    "print(\"Wallets with null points:\")\n",
    "print(null_wallets_370)\n",
    "print(null_points_wallets)"
   ]
  },
  {
   "cell_type": "code",
   "execution_count": null,
   "id": "0eae9686",
   "metadata": {},
   "outputs": [],
   "source": [
    "# Load dataset to fill null values in wallets_new_370k dataset\n",
    "null_wallets_points = pd.read_csv('null_filled.csv')\n",
    "\n",
    "print('\\nPoints to fill: \\n', null_wallets_points)\n",
    "print('Null values check: ', null_wallets_points[null_wallets_points['Points'].isnull()])"
   ]
  },
  {
   "cell_type": "code",
   "execution_count": null,
   "id": "215f00f7",
   "metadata": {},
   "outputs": [],
   "source": [
    "# Merge the datasets using 'Wallet' column creating extra column with values to fill\n",
    "merged_df = pd.merge(wallets_new_370k, null_wallets_points, on='Wallet', how='left', suffixes=('', '_new'))\n",
    "\n",
    "print(merged_df)"
   ]
  },
  {
   "cell_type": "code",
   "execution_count": null,
   "id": "94c40389",
   "metadata": {},
   "outputs": [],
   "source": [
    "# Fill null values in 'Points' with values from 'Points_new'\n",
    "merged_df['Points'] = merged_df['Points'].fillna(merged_df['Points_new'])\n",
    "\n",
    "# Drop the unneeded extra column\n",
    "merged_df = merged_df.drop(columns=['Points_new'])\n",
    "\n",
    "# Update the original DataFrame\n",
    "wallets_new_370k = merged_df\n",
    "\n",
    "# Print the updated DataFrame\n",
    "print(\"Updated DataFrame:\")\n",
    "print(wallets_new_370k)\n",
    "\n",
    "# Check Updated Data Frame for NULL values\n",
    "print('\\nNull Values Check: \\n', wallets_new_370k[wallets_new_370k['Points'].isnull()])"
   ]
  },
  {
   "cell_type": "code",
   "execution_count": null,
   "id": "677bb627",
   "metadata": {},
   "outputs": [],
   "source": [
    "# Save the updated DataFrame if needed\n",
    "# merged_df.to_csv(\"updated_wallets_new_370k.csv\", index=False)"
   ]
  },
  {
   "cell_type": "markdown",
   "id": "dfe01c63",
   "metadata": {},
   "source": [
    "### NEXT STEP - Concat datasets"
   ]
  },
  {
   "cell_type": "code",
   "execution_count": null,
   "id": "a8075b85",
   "metadata": {},
   "outputs": [],
   "source": [
    "# Check for common wallets\n",
    "old_wallets = set(wallets_old_10k['Wallet'])\n",
    "new_wallets = set(wallets_new_370k['Wallet'])\n",
    "\n",
    "# Check for overlap\n",
    "common_wallets = old_wallets.intersection(new_wallets)\n",
    "print(f\"Number of common wallets: {len(common_wallets)}\")"
   ]
  },
  {
   "cell_type": "code",
   "execution_count": null,
   "id": "29247f74",
   "metadata": {},
   "outputs": [],
   "source": [
    "# join OLD and NEW datasets\n",
    "joined_data = pd.concat([wallets_new_370k, wallets_old_10k]).drop_duplicates().reset_index(drop=True)\n",
    "\n",
    "print(joined_data)\n",
    "print('\\nNull Values Check: \\n', joined_data[joined_data['Points'].isnull()])"
   ]
  },
  {
   "cell_type": "code",
   "execution_count": null,
   "id": "481fff61",
   "metadata": {},
   "outputs": [],
   "source": [
    "# Group data to leave only distinct wallets with highest Points (when we have wallets duplicats with different points)\n",
    "grouped_data = joined_data.groupby('Wallet')['Points'].max().reset_index()\n",
    "\n",
    "print(grouped_data)\n",
    "print(\"\\nUnique wallets in grouped_data:\", grouped_data['Wallet'].nunique())\n",
    "print('\\nNull Values Check: \\n', grouped_data[grouped_data['Points'].isnull()])"
   ]
  },
  {
   "cell_type": "code",
   "execution_count": 8,
   "id": "765b9eb7",
   "metadata": {},
   "outputs": [],
   "source": [
    "# Save final table with distinct Wallets and Points\n",
    "grouped_data.to_csv(\"updated_wallets_new_370k.csv\", index=False)"
   ]
  }
 ],
 "metadata": {
  "kernelspec": {
   "display_name": "Python 3 (ipykernel)",
   "language": "python",
   "name": "python3"
  },
  "language_info": {
   "codemirror_mode": {
    "name": "ipython",
    "version": 3
   },
   "file_extension": ".py",
   "mimetype": "text/x-python",
   "name": "python",
   "nbconvert_exporter": "python",
   "pygments_lexer": "ipython3",
   "version": "3.11.5"
  }
 },
 "nbformat": 4,
 "nbformat_minor": 5
}
