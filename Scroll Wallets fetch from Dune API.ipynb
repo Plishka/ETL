{
 "cells": [
  {
   "cell_type": "code",
   "execution_count": null,
   "id": "6739dbf7",
   "metadata": {},
   "outputs": [],
   "source": [
    "import pandas as pd\n",
    "from dune_client.client import DuneClient\n",
    "import io\n",
    "import requests\n",
    "import time\n",
    "import os"
   ]
  },
  {
   "cell_type": "code",
   "execution_count": null,
   "id": "2d4a95ed",
   "metadata": {},
   "outputs": [],
   "source": [
    "# Define the base URL and headers RUSLAN\n",
    "url = \"https://api.dune.com/api/v1/query/'INSERT_QUERY_NUMBER'/results\" # insert Dune query number\n",
    "headers = {\"X-DUNE-API-KEY\": \"your_key\"}\n",
    "\n",
    "# Initialize variables\n",
    "batch_size = 1000\n",
    "total_records = 1784584\n",
    "all_rows = []\n",
    "\n",
    "# Function to fetch data with retry and backoff\n",
    "def fetch_data_with_retry(url, headers, params, retries=5, backoff_factor=1):\n",
    "    for attempt in range(retries):\n",
    "        try:\n",
    "            response = requests.get(url, headers=headers, params=params, timeout=30)\n",
    "            response.raise_for_status()\n",
    "            return response.json()\n",
    "        except requests.exceptions.RequestException as e:\n",
    "            print(f\"Attempt {attempt+1} failed: {e}\")\n",
    "            if attempt < retries - 1:\n",
    "                time.sleep(backoff_factor * (2 ** attempt))  # Exponential backoff\n",
    "            else:\n",
    "                raise\n",
    "\n",
    "# Loop through the results using pagination\n",
    "for offset in range(0, total_records, batch_size):\n",
    "    params = {\"limit\": batch_size, \"offset\": offset}\n",
    "    try:\n",
    "        data = fetch_data_with_retry(url, headers, params)\n",
    "        rows = data['result']['rows']  # Adjust this if the structure is different\n",
    "        all_rows.extend(rows)\n",
    "        print(f\"Fetched {offset + batch_size} records\")\n",
    "    except Exception as e:\n",
    "        print(f\"Error fetching data at offset {offset}: {e}\")\n",
    "        break  # Exit the loop if there's an error\n",
    "\n",
    "# Convert the list of dictionaries to a pandas DataFrame\n",
    "df = pd.DataFrame(all_rows)\n",
    "\n",
    "# Save the DataFrame to a CSV file if needed\n",
    "df.to_csv(\"scrollwallets.csv\", index=False)\n",
    "\n",
    "# Print the DataFrame to verify the results\n",
    "print(df)\n"
   ]
  }
 ],
 "metadata": {
  "kernelspec": {
   "display_name": "Python 3 (ipykernel)",
   "language": "python",
   "name": "python3"
  },
  "language_info": {
   "codemirror_mode": {
    "name": "ipython",
    "version": 3
   },
   "file_extension": ".py",
   "mimetype": "text/x-python",
   "name": "python",
   "nbconvert_exporter": "python",
   "pygments_lexer": "ipython3",
   "version": "3.11.5"
  }
 },
 "nbformat": 4,
 "nbformat_minor": 5
}
